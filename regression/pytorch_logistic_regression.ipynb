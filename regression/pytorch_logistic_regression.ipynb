{
 "cells": [
  {
   "cell_type": "code",
   "execution_count": 1,
   "metadata": {
    "tags": []
   },
   "outputs": [],
   "source": [
    "# System libraries\n",
    "import time\n",
    "\n",
    "import torch\n",
    "import numpy as np\n",
    "import matplotlib.pyplot as plt\n",
    "\n",
    "from torch import nn\n",
    "from torch.autograd import Variable\n",
    "from torch.utils.data import DataLoader, Dataset\n",
    "\n",
    "# Custom libraries\n",
    "import load_mnist as mnist\n",
    "\n",
    "%matplotlib inline"
   ]
  },
  {
   "cell_type": "markdown",
   "metadata": {},
   "source": [
    "### Load dataset"
   ]
  },
  {
   "cell_type": "code",
   "execution_count": 2,
   "metadata": {
    "tags": []
   },
   "outputs": [],
   "source": [
    "training_data, _, testing_data = mnist.read_mnist('data/mnist/', flatten=True)"
   ]
  },
  {
   "cell_type": "markdown",
   "metadata": {},
   "source": [
    "### Custom Dataset Loader"
   ]
  },
  {
   "cell_type": "code",
   "execution_count": 3,
   "metadata": {
    "tags": []
   },
   "outputs": [],
   "source": [
    "class ImageDataLoader(Dataset):\n",
    "    def __init__(self, data):\n",
    "        self.images = data[0]\n",
    "        self.labels = data[1]\n",
    "        self.len = len(self.labels)\n",
    "\n",
    "    def __getitem__(self, idx):\n",
    "\n",
    "        image = self.images[idx]\n",
    "        label = self.labels[idx]\n",
    "\n",
    "        return image, label\n",
    "    \n",
    "    def __len__(self):\n",
    "        \n",
    "        return self.len"
   ]
  },
  {
   "cell_type": "markdown",
   "metadata": {},
   "source": [
    "### Model Definition"
   ]
  },
  {
   "cell_type": "code",
   "execution_count": 4,
   "metadata": {
    "tags": []
   },
   "outputs": [],
   "source": [
    "class LogisticModel(nn.Module):\n",
    "    def __init__(self, input_shape, output_shape):\n",
    "        \"\"\"Model class constructor\"\"\"\n",
    "        super(LogisticModel, self).__init__()\n",
    "        self.linear = nn.Linear(input_shape, output_shape)\n",
    "        \n",
    "    def forward(self, x):\n",
    "        \n",
    "        logits = self.linear(x)\n",
    "        return logits"
   ]
  },
  {
   "cell_type": "markdown",
   "metadata": {},
   "source": [
    "### Trainer class"
   ]
  },
  {
   "cell_type": "code",
   "execution_count": 17,
   "metadata": {
    "tags": []
   },
   "outputs": [],
   "source": [
    "class LogisticRegression:    \n",
    "    \n",
    "    def __init__(self, epochs = 50):\n",
    "        self.frequency = 10\n",
    "        self.batch_size = 128\n",
    "        self.epochs = epochs\n",
    "        self.lr = 0.001\n",
    "        self.loss_function = self.get_loss_function()\n",
    "        self.model = LogisticModel(784,10)\n",
    "        \n",
    "    def get_data(self, data, batch_size, shuffle=False):\n",
    "        \"\"\"Get a data loader\n",
    "            Args:\n",
    "                data (pd.DataFrame): dataset\n",
    "                batch_size (int): batch size\n",
    "                shuffle (bool): shuffle \n",
    "        \n",
    "            Returns:\n",
    "                torch.utils.DataLoader: dataset iterator\n",
    "        \"\"\"        \n",
    "        data_iterator = ImageDataLoader(data)\n",
    "        return DataLoader(data_iterator, batch_size=batch_size, shuffle=shuffle)\n",
    "\n",
    "    def get_loss_function(self):\n",
    "        \"\"\"Define Loss function\"\"\"\n",
    "        return nn.CrossEntropyLoss()\n",
    "        \n",
    "    def get_optimizer(self, params):\n",
    "        \"\"\"Define gradient descent as the optimizer to minimise the loss\"\"\"\n",
    "        return torch.optim.SGD(params, lr=self.lr)\n",
    "\n",
    "    def fit(self, data):\n",
    "        \"\"\"Train and evaluate model\"\"\"\n",
    "        \n",
    "        optimizer = self.get_optimizer(self.model.parameters())\n",
    "        train_dataloader = self.get_data(data, self.batch_size, True)\n",
    "        print(\"Training...\")\n",
    "        for epoch in range(1, self.epochs+1):\n",
    "            \n",
    "            for batch_idx, (x, y) in enumerate(train_dataloader):\n",
    "            \n",
    "                # forward pass\n",
    "                preds = self.model(x)\n",
    "\n",
    "                # loss calculation\n",
    "                loss = self.loss_function(preds, y)\n",
    "\n",
    "                # backward prop\n",
    "                optimizer.zero_grad()\n",
    "                loss.backward()\n",
    "                optimizer.step()\n",
    "                \n",
    "            if epoch % self.frequency == 0:\n",
    "                loss, accuracy = 0, 0\n",
    "                with torch.no_grad():\n",
    "                    for x,y in train_dataloader:\n",
    "                        preds = self.model(x)\n",
    "                        loss += self.loss_function(preds, y).item()\n",
    "                        accuracy += (preds.argmax(1) == y.argmax(1)).type(torch.float).sum().item()\n",
    "                \n",
    "                print('Epoch {:d} - Train loss: {:.3f} - Train Accuracy: {:.2f}%'.format(\n",
    "                                    epoch, \n",
    "                                    loss/batch_idx,\n",
    "                                    (accuracy/len(train_dataloader.dataset)) * 100))\n",
    "\n",
    "    def evaluate(self, data):\n",
    "        \"\"\"Evaluate test set\"\"\"\n",
    "\n",
    "        print(\"Evaluating...\")\n",
    "        # get testing set\n",
    "        test_dataloader = self.get_data(data, len(data[0]))\n",
    "        loss, accuracy = 0, 0\n",
    "\n",
    "        with torch.no_grad():\n",
    "            for x,y in test_dataloader:\n",
    "                preds = self.model(x)\n",
    "                \n",
    "                loss += self.loss_function(preds, y).item()\n",
    "                accuracy += (preds.argmax(1) == y.argmax(1)).type(torch.float).sum().item()\n",
    "\n",
    "        print('Test loss: {:.3f} - Test Accuracy: {:.2f}%'.format(loss/len(test_dataloader), (accuracy/len(test_dataloader.dataset)) * 100))\n",
    "            \n",
    "    def predict(self, data):\n",
    "        \"\"\"Prediction\"\"\"\n",
    "        \n",
    "        print(\"Predicting...\")\n",
    "        # get testing set\n",
    "        test_dataloader = self.get_data(data, len(data[0]))\n",
    "        with torch.no_grad():\n",
    "            for x, _ in test_dataloader:\n",
    "                predictions = self.model(x)\n",
    "                \n",
    "        return predictions"
   ]
  },
  {
   "cell_type": "code",
   "execution_count": 18,
   "metadata": {
    "tags": []
   },
   "outputs": [
    {
     "name": "stdout",
     "output_type": "stream",
     "text": [
      "Evaluating...\n",
      "Test loss: 2.324 - Test Accuracy: 6.69%\n",
      "Training...\n",
      "Epoch 10 - Train loss: 0.854 - Train Accuracy: 83.52%\n",
      "Epoch 20 - Train loss: 0.645 - Train Accuracy: 85.62%\n",
      "Epoch 30 - Train loss: 0.561 - Train Accuracy: 86.72%\n",
      "Epoch 40 - Train loss: 0.513 - Train Accuracy: 87.39%\n",
      "Epoch 50 - Train loss: 0.481 - Train Accuracy: 87.89%\n",
      "Evaluating...\n",
      "Test loss: 0.458 - Test Accuracy: 88.72%\n"
     ]
    }
   ],
   "source": [
    "lr = LogisticRegression()\n",
    "lr.evaluate(testing_data)\n",
    "lr.fit(training_data)\n",
    "lr.evaluate(testing_data)"
   ]
  },
  {
   "cell_type": "code",
   "execution_count": 20,
   "metadata": {
    "tags": []
   },
   "outputs": [
    {
     "name": "stdout",
     "output_type": "stream",
     "text": [
      "Predicting...\n"
     ]
    }
   ],
   "source": [
    "preds = lr.predict(testing_data)\n",
    "y_preds = preds.argmax(1)"
   ]
  },
  {
   "cell_type": "code",
   "execution_count": 13,
   "metadata": {
    "tags": []
   },
   "outputs": [],
   "source": [
    "def plot_predictions(x, y):\n",
    "    '''\n",
    "    Make a subplot of random test images-predicted label\n",
    "    '''\n",
    "    # Plot images with their predicted labels\n",
    "    plt.figure(figsize=(28,28))\n",
    "    for idx, image in enumerate(x):\n",
    "        plt.subplot(len(y),1,1+idx)\n",
    "        plt.title(\"Predicted Number: \"+ str(y[idx].numpy()))\n",
    "        fig = plt.imshow(image.reshape(28,28), cmap='gray')\n",
    "        fig.axes.get_xaxis().set_visible(False)\n",
    "        fig.axes.get_yaxis().set_visible(False)"
   ]
  },
  {
   "cell_type": "code",
   "execution_count": null,
   "metadata": {},
   "outputs": [],
   "source": [
    "https://medium.com/@sniafas/regression-with-pytorch"
   ]
  },
  {
   "cell_type": "code",
   "execution_count": 22,
   "metadata": {
    "tags": []
   },
   "outputs": [
    {
     "data": {
      "image/png": "[encoded data removed]",
      "text/plain": [
       "<Figure size 2800x2800 with 10 Axes>"
      ]
     },
     "metadata": {},
     "output_type": "display_data"
    }
   ],
   "source": [
    "plot_predictions(testing_data[0][:10], y_preds[:10])"
   ]
  },
  {
   "cell_type": "code",
   "execution_count": null,
   "metadata": {},
   "outputs": [],
   "source": []
  }
 ],
 "metadata": {
  "kernelspec": {
   "display_name": "mldev",
   "language": "python",
   "name": "mldev"
  },
  "language_info": {
   "codemirror_mode": {
    "name": "ipython",
    "version": 3
   },
   "file_extension": ".py",
   "mimetype": "text/x-python",
   "name": "python",
   "nbconvert_exporter": "python",
   "pygments_lexer": "ipython3",
   "version": "3.8.7"
  }
 },
 "nbformat": 4,
 "nbformat_minor": 4
}
